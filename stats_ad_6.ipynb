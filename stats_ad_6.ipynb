{
 "cells": [
  {
   "cell_type": "markdown",
   "id": "1a01519f-5768-4d83-9e10-ab56f98675db",
   "metadata": {},
   "source": [
    "<span style=color:green;font-size:60px>STATISTICS ADVANCE-6</span>"
   ]
  },
  {
   "cell_type": "markdown",
   "id": "a4b07294-103f-4e96-b38d-5a620964b336",
   "metadata": {},
   "source": [
    "<span style=color:pink;font-size:60px>ASSIGNMENT</span>"
   ]
  },
  {
   "cell_type": "markdown",
   "id": "b5da38a3-3ba4-4d4a-b488-93bc73f6d94d",
   "metadata": {},
   "source": [
    "<span style=color:green>Q1. Explain the assumptions required to use ANOVA and provide examples of violations that could impact\n",
    "the validity of the results.</span>"
   ]
  },
  {
   "cell_type": "markdown",
   "id": "ed7418e0-ed8d-44ea-a734-7dcd9cc2391e",
   "metadata": {},
   "source": [
    "Ans-"
   ]
  },
  {
   "cell_type": "markdown",
   "id": "b3714835-bfb7-452a-8ccd-cee06ed048df",
   "metadata": {},
   "source": [
    "## Assumptions of ANOVA:\n",
    "\n",
    "1. **Independence:** The observations within each group are independent of each other. This means that the values of one observation should not influence the values of another observation within the same group. For example, in a study comparing the effectiveness of three different teaching methods on student performance, the performance of one student should not influence the performance of another student within the same teaching method group.\n",
    "\n",
    "2. **Normality:** The residuals (the differences between observed and predicted values) are normally distributed. This assumption implies that the distribution of the residuals should be approximately normal within each group. Violations of this assumption may lead to inaccurate p-values and confidence intervals. For example, if the residuals are heavily skewed or have heavy tails within one or more groups, the assumption of normality may be violated.\n",
    "\n",
    "3. **Homogeneity of Variance:** The variance of the residuals is the same for all groups (homoscedasticity). This means that the spread of data points around the group means should be approximately equal across all groups. Violations of this assumption can lead to unequal group variances, which may affect the validity of the F-test in ANOVA. For example, if one group has much larger variance compared to the other groups, it may dominate the results of the ANOVA.\n",
    "\n",
    "## Examples of Violations:\n",
    "\n",
    "1. **Non-Normality:** If the data within one or more groups are not normally distributed, the assumption of normality is violated. For instance, in a study examining the effect of a drug on blood pressure, if the distribution of blood pressure measurements within one treatment group is heavily skewed, the assumption of normality may be violated.\n",
    "\n",
    "2. **Unequal Variances:** If the variability of data points within one or more groups differs significantly from the others, the assumption of homogeneity of variance is violated. For example, in a study comparing the performance of different cars in terms of fuel efficiency, if the variability in fuel efficiency measurements varies greatly between different car brands, the assumption of equal variances may be violated.\n",
    "\n",
    "3. **Dependence:** If observations within the same group are not independent, it violates the assumption of independence. For example, in a study examining the effect of a new teaching method on student performance, if students within the same class are influenced by each other's performance, the assumption of independence may be violated.\n",
    "\n",
    "In practice, it's essential to check for these assumptions before interpreting the results of ANOVA to ensure the validity of the conclusions drawn from the analysis. Various diagnostic tools and tests are available to assess the fulfillment of these assumptions, such as normality plots, residual plots, and Levene's test for homogeneity of variances.\n"
   ]
  },
  {
   "cell_type": "markdown",
   "id": "4e9f203f-89eb-4f03-9829-3547c5a039c9",
   "metadata": {},
   "source": [
    "<span style=color:green>Q2. What are the three types of ANOVA, and in what situations would each be used?</span>"
   ]
  },
  {
   "cell_type": "markdown",
   "id": "b5a97f6c-72c1-4159-9981-1abbc392a647",
   "metadata": {},
   "source": [
    "Ans-"
   ]
  },
  {
   "cell_type": "markdown",
   "id": "2afc9e26-cfeb-424b-83a3-cd74699abd48",
   "metadata": {},
   "source": [
    "## Three Types of ANOVA:\n",
    "\n",
    "1. **One-Way ANOVA:**\n",
    "    - **Usage:** One-way ANOVA is used when comparing the means of three or more independent groups or conditions on a single continuous dependent variable.\n",
    "    - **Example:** Comparing the mean test scores of students across multiple teaching methods (e.g., traditional lecture, online tutorial, hands-on workshop).\n",
    "\n",
    "2. **Two-Way ANOVA:**\n",
    "    - **Usage:** Two-way ANOVA is used when comparing the means of a continuous dependent variable across the combinations of two categorical independent variables (factors), where each factor has two or more levels.\n",
    "    - **Example:** Examining the effects of both gender and treatment (e.g., drug vs. placebo) on blood pressure levels, where blood pressure measurements are collected from male and female participants who receive either drug or placebo.\n",
    "\n",
    "3. **Repeated Measures ANOVA:**\n",
    "    - **Usage:** Repeated measures ANOVA is used when comparing the means of a continuous dependent variable measured at multiple time points or under multiple conditions within the same subjects.\n",
    "    - **Example:** Assessing the effectiveness of a new training program by measuring the performance of participants before, during, and after the training sessions.\n",
    "\n",
    "In summary, the choice of ANOVA type depends on the study design and the nature of the independent variables being investigated. One-way ANOVA is suitable for comparing multiple groups on a single variable, two-way ANOVA is used when examining the effects of two independent variables (factors) on a dependent variable, and repeated measures ANOVA is appropriate for analyzing data with repeated measurements or conditions within subjects.\n"
   ]
  },
  {
   "cell_type": "markdown",
   "id": "f368ef45-7094-4f6a-9eb6-58f84762b808",
   "metadata": {},
   "source": [
    "<span style=color:green>Q3. What is the partitioning of variance in ANOVA, and why is it important to understand this concept?</span>"
   ]
  },
  {
   "cell_type": "markdown",
   "id": "738e9f92-24da-42df-b7f4-d6bebe07d4b8",
   "metadata": {},
   "source": [
    "Ans-"
   ]
  },
  {
   "cell_type": "markdown",
   "id": "ea24c5ac-5409-44f8-b7cc-c7e3e3bf5a0b",
   "metadata": {},
   "source": [
    "## Partitioning of Variance in ANOVA:\n",
    "\n",
    "In ANOVA (Analysis of Variance), the total variance in the data is partitioned into different components to understand the sources of variability and their contributions to the overall variance. The partitioning of variance typically involves the following components:\n",
    "\n",
    "1. **Between-Group Variance (SSB):**\n",
    "    - This component represents the variability between different groups or conditions in the study.\n",
    "    - It measures the extent to which the group means differ from each other.\n",
    "    - Calculated as the sum of squared deviations of group means from the overall mean, weighted by the number of observations in each group.\n",
    "\n",
    "2. **Within-Group Variance (SSW):**\n",
    "    - This component represents the variability within each group or condition.\n",
    "    - It measures the extent to which individual observations within the same group vary around their group mean.\n",
    "    - Calculated as the sum of squared deviations of individual observations from their respective group means, summed across all groups.\n",
    "\n",
    "3. **Total Variance (SST):**\n",
    "    - This component represents the overall variability in the data, regardless of group membership.\n",
    "    - It is the sum of the between-group variance and the within-group variance.\n",
    "    - It provides a baseline measure of the total variability that exists in the data.\n",
    "\n",
    "## Importance of Understanding Partitioning of Variance:\n",
    "\n",
    "Understanding the partitioning of variance in ANOVA is crucial for several reasons:\n",
    "\n",
    "- **Identification of Sources of Variation:** By decomposing the total variance into between-group and within-group components, ANOVA helps identify the sources of variability in the data. This understanding enables researchers to assess the impact of different factors or conditions on the outcome variable.\n",
    "\n",
    "- **Interpretation of Results:** Knowledge of the partitioning of variance allows researchers to interpret the results of ANOVA accurately. By examining the relative magnitudes of between-group and within-group variances, researchers can determine whether group differences are statistically significant and meaningful.\n",
    "\n",
    "- **Assessment of Model Fit:** Partitioning of variance helps assess the goodness-of-fit of the ANOVA model. A well-fitted model should adequately account for the observed variability in the data, with a substantial portion of the total variance explained by between-group differences.\n",
    "\n",
    "In summary, understanding the partitioning of variance in ANOVA enhances the interpretation and validity of the results, facilitates the identification of influential factors, and enables researchers to make informed decisions based on their analyses.\n"
   ]
  },
  {
   "cell_type": "markdown",
   "id": "d296d06c-3393-4655-8ad5-9613cc7cc22f",
   "metadata": {},
   "source": [
    "<span style=color:green>Q4. How would you calculate the total sum of squares (SST), explained sum of squares (SSE), and residual\n",
    "sum of squares (SSR) in a one-way ANOVA using Python?</span>"
   ]
  },
  {
   "cell_type": "markdown",
   "id": "f9463943-c86c-4805-a113-11903c9ef4ba",
   "metadata": {},
   "source": [
    "Ans-"
   ]
  },
  {
   "cell_type": "markdown",
   "id": "5b0d8f0b-9257-49da-9657-a1e90bf517f6",
   "metadata": {},
   "source": [
    "To calculate the Total Sum of Squares (SST), Explained Sum of Squares (SSE), and Residual Sum of Squares (SSR) in a one-way ANOVA using Python, you can follow these steps:\n",
    "\n",
    "Calculate the overall mean of the dependent variable.\n",
    "Calculate the group means for each level of the independent variable.\n",
    "Compute the SST, which represents the total variability in the dependent variable.\n",
    "Compute the SSE, which represents the variability explained by differences between group means.\n",
    "Calculate the SSR, which represents the unexplained variability in the dependent variable.\n",
    "Here's the Python code to achieve this:"
   ]
  },
  {
   "cell_type": "code",
   "execution_count": 8,
   "id": "c7e41686-f86e-4e81-a11c-7c40852a1c14",
   "metadata": {},
   "outputs": [
    {
     "data": {
      "text/plain": [
       "(406.9333333333334, 362.1333333333333, 44.80000000000007)"
      ]
     },
     "execution_count": 8,
     "metadata": {},
     "output_type": "execute_result"
    }
   ],
   "source": [
    "import numpy as np\n",
    "\n",
    "# Placeholder group data\n",
    "group1_data = [68, 72, 74, 70, 71]\n",
    "group2_data = [75, 78, 80, 77, 79]\n",
    "group3_data = [82, 84, 81, 85, 83]\n",
    "\n",
    "# Compute the overall mean\n",
    "overall_mean = np.mean(np.concatenate([group1_data, group2_data, group3_data]))\n",
    "\n",
    "# Compute the group means\n",
    "group_means = [np.mean(group) for group in [group1_data, group2_data, group3_data]]\n",
    "\n",
    "# Calculate SST\n",
    "SST = np.sum((np.concatenate([group1_data, group2_data, group3_data]) - overall_mean) ** 2)\n",
    "\n",
    "# Calculate SSE\n",
    "SSE = np.sum([len(group) * (np.mean(group) - overall_mean) ** 2 for group in [group1_data, group2_data, group3_data]])\n",
    "\n",
    "# Calculate SSR\n",
    "SSR = SST - SSE\n",
    "\n",
    "SST, SSE, SSR\n"
   ]
  },
  {
   "cell_type": "markdown",
   "id": "9a79ec32-33cc-483a-8c5d-cec1a68c5341",
   "metadata": {},
   "source": [
    "<span style=color:green>Q5. In a two-way ANOVA, how would you calculate the main effects and interaction effects using Python?</span>"
   ]
  },
  {
   "cell_type": "markdown",
   "id": "1bd54ba7-e1d7-4d36-ab62-52109f65f47b",
   "metadata": {},
   "source": [
    "Ans-"
   ]
  },
  {
   "cell_type": "markdown",
   "id": "1bad972e-198d-40af-99f4-96654929ee30",
   "metadata": {},
   "source": [
    "To calculate the main effects and interaction effects in a two-way ANOVA using Python, you can use libraries like statsmodels or scipy.stats. These libraries provide functions for performing ANOVA analysis and extracting the main effects and interaction effects.\n",
    "\n",
    "Here's how you can calculate the main effects and interaction effects using statsmodels:"
   ]
  },
  {
   "cell_type": "code",
   "execution_count": 9,
   "id": "c5af760a-5f9e-49ce-aec7-be410e4d554a",
   "metadata": {},
   "outputs": [
    {
     "data": {
      "text/plain": [
       "(0.08571428571428581, 1.587113011694648e-31, 3.3902236521998204e-31)"
      ]
     },
     "execution_count": 9,
     "metadata": {},
     "output_type": "execute_result"
    }
   ],
   "source": [
    "import numpy as np\n",
    "import pandas as pd\n",
    "import statsmodels.api as sm\n",
    "from statsmodels.formula.api import ols\n",
    "\n",
    "# Creating sample data\n",
    "data = pd.DataFrame({\n",
    "    'A': ['A1', 'A2', 'A1', 'A2', 'A1', 'A2'],\n",
    "    'B': ['B1', 'B1', 'B2', 'B2', 'B1', 'B1'],\n",
    "    'Y': [10, 12, 14, 16, 18, 20]\n",
    "})\n",
    "\n",
    "# Fitting the two-way ANOVA model\n",
    "model = ols('Y ~ C(A) + C(B) + C(A):C(B)', data=data).fit()\n",
    "anova_table = sm.stats.anova_lm(model, typ=2)\n",
    "\n",
    "# Extracting main effects and interaction effect\n",
    "main_effect_A = anova_table['sum_sq']['C(A)'] / anova_table['sum_sq'].sum()\n",
    "main_effect_B = anova_table['sum_sq']['C(B)'] / anova_table['sum_sq'].sum()\n",
    "interaction_effect = anova_table['sum_sq']['C(A):C(B)'] / anova_table['sum_sq'].sum()\n",
    "\n",
    "main_effect_A, main_effect_B, interaction_effect\n"
   ]
  },
  {
   "cell_type": "markdown",
   "id": "3cf45b82-a668-4bb8-870b-feffc9b95ccc",
   "metadata": {},
   "source": [
    "<span style=color:green>Q6. Suppose you conducted a one-way ANOVA and obtained an F-statistic of 5.23 and a p-value of 0.02.\n",
    "What can you conclude about the differences between the groups, and how would you interpret these\n",
    "results?</span>"
   ]
  },
  {
   "cell_type": "markdown",
   "id": "0331ff83-65e0-4243-8a44-035412f6ebe1",
   "metadata": {},
   "source": [
    "Ans-"
   ]
  },
  {
   "cell_type": "markdown",
   "id": "0391b21d-d618-4f6b-afcc-d8556a09e492",
   "metadata": {},
   "source": [
    "## Interpretation of One-Way ANOVA Results\n",
    "\n",
    "When conducting a one-way ANOVA, the F-statistic and its associated p-value are used to determine whether there are statistically significant differences between the means of the groups. Here's how you can interpret the results:\n",
    "\n",
    "1. **F-statistic:** The F-statistic measures the ratio of the variance between groups to the variance within groups. A larger F-statistic indicates that the variability between group means is larger relative to the variability within groups. In your case, the F-statistic is 5.23.\n",
    "\n",
    "2. **p-value:** The p-value associated with the F-statistic indicates the probability of observing the data if the null hypothesis (i.e., the means of all groups are equal) were true. A smaller p-value suggests stronger evidence against the null hypothesis. In your case, the p-value is 0.02.\n",
    "\n",
    "### Interpretation of Results:\n",
    "\n",
    "- **Statistical significance:** The obtained p-value (0.02) is less than the conventional significance level of 0.05. Therefore, you would reject the null hypothesis and conclude that there are statistically significant differences between the groups.\n",
    "\n",
    "- **Conclusion:** Given the rejection of the null hypothesis, you can infer that at least one group mean is significantly different from the others. However, the one-way ANOVA does not tell you which specific group means are different from each other. Post-hoc tests, such as Tukey's HSD (Honestly Significant Difference), can be conducted to identify pairwise differences between group means.\n",
    "\n",
    "In summary, based on the F-statistic and p-value obtained from the one-way ANOVA, you would conclude that there are statistically significant differences between the groups, but further analyses are needed to determine which specific group means differ from each other.\n"
   ]
  },
  {
   "cell_type": "markdown",
   "id": "7c1da0ab-747d-41b8-a91c-0761f3e8e799",
   "metadata": {},
   "source": [
    "<span style=color:green>Q7. In a repeated measures ANOVA, how would you handle missing data, and what are the potential\n",
    "consequences of using different methods to handle missing data?</span>"
   ]
  },
  {
   "cell_type": "markdown",
   "id": "c725218e-6a1e-4780-8f6c-79b170e55aa9",
   "metadata": {},
   "source": [
    "Ans-"
   ]
  },
  {
   "cell_type": "markdown",
   "id": "25947808-061e-45f1-9cd7-023de94f01db",
   "metadata": {},
   "source": [
    "## Handling Missing Data in Repeated Measures ANOVA\n",
    "\n",
    "In a repeated measures ANOVA, missing data can occur when participants have incomplete responses or drop out of the study. Handling missing data appropriately is crucial to ensure the validity and reliability of the analysis. Here's how you can handle missing data and the potential consequences of using different methods:\n",
    "\n",
    "1. **Listwise deletion:** This method involves removing any cases with missing data from the analysis. While listwise deletion is straightforward and easy to implement, it can lead to a loss of statistical power and biased estimates, especially if the missing data are not completely random.\n",
    "\n",
    "2. **Pairwise deletion:** With this approach, the analysis uses all available data for each pairwise comparison. Pairwise deletion retains more data than listwise deletion, potentially improving statistical power. However, it can produce biased estimates if the missing data are not missing completely at random (MCAR), as it ignores the correlation structure of the data.\n",
    "\n",
    "3. **Mean imputation:** Mean imputation involves replacing missing values with the mean of the observed values for that variable. While mean imputation preserves the sample size and is easy to implement, it can lead to biased estimates and underestimation of standard errors, especially if the missing data are not MCAR. Additionally, mean imputation reduces variability in the data and may underestimate uncertainty.\n",
    "\n",
    "4. **Multiple imputation:** Multiple imputation involves creating multiple plausible imputed datasets, each with different imputed values for missing data. The analysis is then performed on each imputed dataset, and the results are combined using specialized techniques to provide valid statistical inference. Multiple imputation accounts for uncertainty due to missing data and provides unbiased estimates if the imputation model is correctly specified. However, it can be computationally intensive and requires careful consideration of the imputation model.\n",
    "\n",
    "5. **Maximum likelihood estimation:** This approach estimates the parameters of the model directly using the observed data and the likelihood function. Maximum likelihood estimation provides unbiased estimates under the assumption that the missing data mechanism is ignorable. However, it may not be robust to violations of this assumption.\n",
    "\n",
    "In summary, the choice of method for handling missing data in repeated measures ANOVA depends on the nature of the missing data and the assumptions about the missing data mechanism. While some methods may be more straightforward to implement, they can lead to biased estimates and loss of statistical power. It is essential to carefully consider the potential consequences of using different methods and to perform sensitivity analyses to assess the robustness of the results.\n"
   ]
  },
  {
   "cell_type": "markdown",
   "id": "6cf81110-8cbd-4c3c-a9fd-a5857d5c6b64",
   "metadata": {},
   "source": [
    "<span style=color:green>Q8. What are some common post-hoc tests used after ANOVA, and when would you use each one? Provide\n",
    "an example of a situation where a post-hoc test might be necessary.</span>"
   ]
  },
  {
   "cell_type": "markdown",
   "id": "d291bc36-7f97-4c08-a60b-852c15a8ef20",
   "metadata": {},
   "source": [
    "Ans-"
   ]
  },
  {
   "cell_type": "markdown",
   "id": "bd5d1b66-6adf-419b-be50-c17d113e6fd6",
   "metadata": {},
   "source": [
    "## Common Post-hoc Tests After ANOVA\n",
    "\n",
    "After conducting an analysis of variance (ANOVA) and determining that there are statistically significant differences between groups, post-hoc tests are often performed to identify which specific group means differ from each other. Here are some common post-hoc tests used after ANOVA and when you would use each one:\n",
    "\n",
    "1. **Tukey's Honestly Significant Difference (HSD):** Tukey's HSD test is widely used for pairwise comparisons following ANOVA. It controls the familywise error rate, providing simultaneous tests for all pairwise comparisons among group means. Tukey's HSD is appropriate when you have conducted a one-way ANOVA and want to compare all possible pairs of group means.\n",
    "\n",
    "2. **Bonferroni Correction:** The Bonferroni correction is a simple method to adjust for multiple comparisons by dividing the desired alpha level by the number of comparisons. It is conservative but effective at controlling the familywise error rate. Bonferroni correction can be used for multiple pairwise comparisons after ANOVA, especially when you have a large number of comparisons.\n",
    "\n",
    "3. **Sidak Correction:** Similar to Bonferroni correction, the Sidak correction adjusts for multiple comparisons but tends to be less conservative. It is based on the Sidak inequality and provides a less stringent adjustment compared to Bonferroni. Sidak correction is suitable for situations where you want to control the familywise error rate but prefer a less conservative approach than Bonferroni.\n",
    "\n",
    "4. **Dunnett's Test:** Dunnett's test is used for comparing multiple treatment groups to a single control group. It is appropriate when you have a control group and want to test whether other treatment groups differ significantly from the control group.\n",
    "\n",
    "5. **Scheffé's Test:** Scheffé's test is a conservative but powerful post-hoc test that can be used for all pairwise comparisons following ANOVA, regardless of sample sizes and group numbers. It provides simultaneous confidence intervals for all possible pairwise comparisons and is suitable when you need a flexible approach that accommodates various study designs.\n",
    "\n",
    "## Example Situation:\n",
    "\n",
    "Suppose you conducted a study to compare the effectiveness of three different teaching methods (A, B, and C) on student exam scores. After performing a one-way ANOVA, you found a statistically significant difference in mean exam scores between the teaching methods. In this situation, you would use a post-hoc test, such as Tukey's HSD, to identify which specific pairs of teaching methods differ significantly in terms of student exam scores. Tukey's HSD would allow you to conduct pairwise comparisons between all three teaching methods and determine where the significant differences lie.\n"
   ]
  },
  {
   "cell_type": "markdown",
   "id": "988c53fa-8b8f-472f-9fa8-ce6647c55109",
   "metadata": {},
   "source": [
    "<span style=color:green>Q9. A researcher wants to compare the mean weight loss of three diets: A, B, and C. They collect data from\n",
    "50 participants who were randomly assigned to one of the diets. Conduct a one-way ANOVA using Python\n",
    "to determine if there are any significant differences between the mean weight loss of the three diets.\n",
    "Report the F-statistic and p-value, and interpret the results.\n",
    "\n",
    "</span>"
   ]
  },
  {
   "cell_type": "markdown",
   "id": "c34f112c-ab2e-4ba6-80ce-59e11cb5708b",
   "metadata": {},
   "source": [
    "Ans-"
   ]
  },
  {
   "cell_type": "code",
   "execution_count": 10,
   "id": "df9613e7-0dde-439c-bcfe-4aea5abe8709",
   "metadata": {},
   "outputs": [
    {
     "data": {
      "text/plain": [
       "(27.28598452394929, 8.551279341228246e-11)"
      ]
     },
     "execution_count": 10,
     "metadata": {},
     "output_type": "execute_result"
    }
   ],
   "source": [
    "import numpy as np\n",
    "import scipy.stats as stats\n",
    "\n",
    "# Data for weight loss in each diet group\n",
    "diet_A = np.array([3, 5, 4, 6, 7, 2, 4, 5, 6, 5, 4, 3, 6, 7, 8, 3, 5, 6, 4, 5, 6, 7, 4, 3, 5, 6, 4, 3, 5, 6, 4, 5, 6, 4, 3, 5, 6, 4, 3, 5, 6, 4, 3, 5, 6, 4, 3, 5, 6])\n",
    "diet_B = np.array([4, 6, 5, 7, 8, 3, 5, 6, 7, 6, 5, 4, 7, 8, 9, 4, 6, 7, 5, 6, 7, 8, 5, 4, 6, 7, 5, 4, 6, 7, 5, 6, 7, 5, 4, 6, 7, 5, 4, 6, 7, 5, 4, 6, 7, 5, 4, 6, 7, 5])\n",
    "diet_C = np.array([5, 7, 6, 8, 9, 4, 6, 7, 8, 7, 6, 5, 8, 9, 10, 5, 7, 8, 6, 7, 8, 9, 6, 5, 7, 8, 6, 5, 7, 8, 6, 7, 8, 6, 5, 7, 8, 6, 5, 7, 8, 6, 5, 7, 8, 6, 5, 7, 8, 6])\n",
    "\n",
    "# Perform one-way ANOVA\n",
    "f_statistic, p_value = stats.f_oneway(diet_A, diet_B, diet_C)\n",
    "\n",
    "# Report F-statistic and p-value\n",
    "f_statistic, p_value\n"
   ]
  },
  {
   "cell_type": "markdown",
   "id": "2ee49646-6255-4f0f-b41a-5b49edc4fac4",
   "metadata": {},
   "source": [
    "<span style=color:green>Q10. A company wants to know if there are any significant differences in the average time it takes to\n",
    "complete a task using three different software programs: Program A, Program B, and Program C. They\n",
    "randomly assign 30 employees to one of the programs and record the time it takes each employee to\n",
    "complete the task. Conduct a two-way ANOVA using Python to determine if there are any main effects or\n",
    "interaction effects between the software programs and employee experience level (novice vs.\n",
    "experienced). Report the F-statistics and p-values, and interpret the results.</span>"
   ]
  },
  {
   "cell_type": "markdown",
   "id": "ba96a552-2b0b-43e9-800e-a6923eae1a6c",
   "metadata": {},
   "source": [
    "Ans-"
   ]
  },
  {
   "cell_type": "code",
   "execution_count": 12,
   "id": "06cfd949-bc68-4203-bbc8-b2ff2da372ac",
   "metadata": {},
   "outputs": [
    {
     "data": {
      "text/html": [
       "<div>\n",
       "<style scoped>\n",
       "    .dataframe tbody tr th:only-of-type {\n",
       "        vertical-align: middle;\n",
       "    }\n",
       "\n",
       "    .dataframe tbody tr th {\n",
       "        vertical-align: top;\n",
       "    }\n",
       "\n",
       "    .dataframe thead th {\n",
       "        text-align: right;\n",
       "    }\n",
       "</style>\n",
       "<table border=\"1\" class=\"dataframe\">\n",
       "  <thead>\n",
       "    <tr style=\"text-align: right;\">\n",
       "      <th></th>\n",
       "      <th>df</th>\n",
       "      <th>sum_sq</th>\n",
       "      <th>mean_sq</th>\n",
       "      <th>F</th>\n",
       "      <th>PR(&gt;F)</th>\n",
       "    </tr>\n",
       "  </thead>\n",
       "  <tbody>\n",
       "    <tr>\n",
       "      <th>C(Program)</th>\n",
       "      <td>2.0</td>\n",
       "      <td>11.306452</td>\n",
       "      <td>5.653226</td>\n",
       "      <td>2.145100</td>\n",
       "      <td>0.138964</td>\n",
       "    </tr>\n",
       "    <tr>\n",
       "      <th>C(Experience_Level)</th>\n",
       "      <td>1.0</td>\n",
       "      <td>2.102143</td>\n",
       "      <td>2.102143</td>\n",
       "      <td>0.797652</td>\n",
       "      <td>0.380665</td>\n",
       "    </tr>\n",
       "    <tr>\n",
       "      <th>C(Program):C(Experience_Level)</th>\n",
       "      <td>2.0</td>\n",
       "      <td>6.013261</td>\n",
       "      <td>3.006630</td>\n",
       "      <td>1.140857</td>\n",
       "      <td>0.336272</td>\n",
       "    </tr>\n",
       "    <tr>\n",
       "      <th>Residual</th>\n",
       "      <td>24.0</td>\n",
       "      <td>63.249921</td>\n",
       "      <td>2.635413</td>\n",
       "      <td>NaN</td>\n",
       "      <td>NaN</td>\n",
       "    </tr>\n",
       "  </tbody>\n",
       "</table>\n",
       "</div>"
      ],
      "text/plain": [
       "                                  df     sum_sq   mean_sq         F    PR(>F)\n",
       "C(Program)                       2.0  11.306452  5.653226  2.145100  0.138964\n",
       "C(Experience_Level)              1.0   2.102143  2.102143  0.797652  0.380665\n",
       "C(Program):C(Experience_Level)   2.0   6.013261  3.006630  1.140857  0.336272\n",
       "Residual                        24.0  63.249921  2.635413       NaN       NaN"
      ]
     },
     "execution_count": 12,
     "metadata": {},
     "output_type": "execute_result"
    }
   ],
   "source": [
    "import numpy as np\n",
    "import pandas as pd\n",
    "import scipy.stats as stats\n",
    "from statsmodels.formula.api import ols\n",
    "from statsmodels.stats.anova import anova_lm\n",
    "\n",
    "# Generate sample data\n",
    "np.random.seed(0)\n",
    "n = 30  # Number of employees\n",
    "programs = ['A', 'B', 'C']\n",
    "experience_levels = ['Novice', 'Experienced']\n",
    "\n",
    "# Generate random times for each combination of program and experience level\n",
    "data = pd.DataFrame({\n",
    "    'Program': np.random.choice(programs, n),\n",
    "    'Experience_Level': np.random.choice(experience_levels, n),\n",
    "    'Time': np.random.normal(loc=10, scale=2, size=n)\n",
    "})\n",
    "\n",
    "# Fit the ANOVA model\n",
    "formula = 'Time ~ C(Program) + C(Experience_Level) + C(Program):C(Experience_Level)'\n",
    "model = ols(formula, data).fit()\n",
    "\n",
    "# Perform ANOVA\n",
    "anova_results = anova_lm(model)\n",
    "\n",
    "# Report F-statistics and p-values\n",
    "anova_results\n"
   ]
  },
  {
   "cell_type": "markdown",
   "id": "08e4678e-9130-425e-8cc2-162a90643fe3",
   "metadata": {},
   "source": [
    "<span style=color:green>Q11. An educational researcher is interested in whether a new teaching method improves student test\n",
    "scores. They randomly assign 100 students to either the control group (traditional teaching method) or the\n",
    "experimental group (new teaching method) and administer a test at the end of the semester. Conduct a\n",
    "two-sample t-test using Python to determine if there are any significant differences in test scores\n",
    "between the two groups. If the results are significant, follow up with a post-hoc test to determine which\n",
    "group(s) differ significantly from each other.</span>"
   ]
  },
  {
   "cell_type": "markdown",
   "id": "66a2410a-2fa2-442d-9d12-ce3b3362509a",
   "metadata": {},
   "source": [
    "Ans-"
   ]
  },
  {
   "cell_type": "code",
   "execution_count": 13,
   "id": "2776829b-2ca3-4a88-b73d-51262549bc82",
   "metadata": {},
   "outputs": [
    {
     "name": "stdout",
     "output_type": "stream",
     "text": [
      "Two-Sample T-Test Results:\n",
      "t-statistic: -3.597192759749614\n",
      "p-value: 0.0004062796020362504\n",
      "\n",
      "Post-Hoc Test Results:\n",
      "   Multiple Comparison of Means - Tukey HSD, FWER=0.05   \n",
      "=========================================================\n",
      " group1    group2    meandiff p-adj  lower  upper  reject\n",
      "---------------------------------------------------------\n",
      "Control Experimental    5.222 0.0004 2.3593 8.0848   True\n",
      "---------------------------------------------------------\n"
     ]
    }
   ],
   "source": [
    "import numpy as np\n",
    "import pandas as pd\n",
    "from scipy.stats import ttest_ind\n",
    "from statsmodels.stats.multicomp import MultiComparison\n",
    "\n",
    "# Generate or load the data\n",
    "np.random.seed(0)\n",
    "control_group_scores = np.random.normal(loc=70, scale=10, size=100)  # Control group scores\n",
    "experimental_group_scores = np.random.normal(loc=75, scale=10, size=100)  # Experimental group scores\n",
    "\n",
    "# Perform two-sample t-test\n",
    "t_statistic, p_value = ttest_ind(control_group_scores, experimental_group_scores)\n",
    "\n",
    "# Report the t-statistic and p-value\n",
    "print(\"Two-Sample T-Test Results:\")\n",
    "print(\"t-statistic:\", t_statistic)\n",
    "print(\"p-value:\", p_value)\n",
    "\n",
    "# Perform post-hoc test (e.g., Tukey's HSD test) if the result is significant\n",
    "if p_value < 0.05:\n",
    "    # Combine the scores and group labels\n",
    "    all_scores = np.concatenate([control_group_scores, experimental_group_scores])\n",
    "    groups = ['Control'] * 100 + ['Experimental'] * 100\n",
    "    \n",
    "    # Perform Tukey's HSD test\n",
    "    tukey = MultiComparison(all_scores, groups)\n",
    "    posthoc_results = tukey.tukeyhsd()\n",
    "    print(\"\\nPost-Hoc Test Results:\")\n",
    "    print(posthoc_results)\n",
    "else:\n",
    "    print(\"\\nNo significant differences found between the two groups.\")\n"
   ]
  },
  {
   "cell_type": "markdown",
   "id": "582d265c-5861-4131-b52d-18fe280c420f",
   "metadata": {},
   "source": [
    "<span style=color:green>Q12. A researcher wants to know if there are any significant differences in the average daily sales of three\n",
    "retail stores: Store A, Store B, and Store C. They randomly select 30 days and record the sales for each store\n",
    "on those days. Conduct a repeated measures ANOVA using Python to determine if there are any\n",
    "significant differences in sales between the three stores. If the results are significant, follow up with a posthoc test to determine which store(s) differ significantly from each other.</span>"
   ]
  },
  {
   "cell_type": "markdown",
   "id": "b79c4c03-adc7-49bf-bfd4-ff025d788cb2",
   "metadata": {},
   "source": [
    "Ans-"
   ]
  },
  {
   "cell_type": "code",
   "execution_count": 15,
   "id": "8b32d9fe-b722-48f5-950a-889ce3b01b9f",
   "metadata": {},
   "outputs": [
    {
     "name": "stdout",
     "output_type": "stream",
     "text": [
      "Repeated Measures ANOVA Results:\n",
      "F-statistic: 7.839380767178731\n",
      "p-value: 0.0007407649791411143\n",
      "\n",
      "Post-Hoc Test Results:\n",
      "  Multiple Comparison of Means - Tukey HSD, FWER=0.05   \n",
      "========================================================\n",
      " group1  group2 meandiff p-adj   lower    upper   reject\n",
      "--------------------------------------------------------\n",
      "Store A Store B -13.7237 0.5488 -44.9491  17.5017  False\n",
      "Store A Store C -50.1661 0.0007 -81.3914 -18.9407   True\n",
      "Store B Store C -36.4424  0.018 -67.6677   -5.217   True\n",
      "--------------------------------------------------------\n"
     ]
    }
   ],
   "source": [
    "import numpy as np\n",
    "import pandas as pd\n",
    "from scipy.stats import f_oneway\n",
    "from statsmodels.stats.multicomp import MultiComparison\n",
    "\n",
    "# Generate or load the data\n",
    "np.random.seed(0)\n",
    "n_days = 30\n",
    "store_a_sales = np.random.normal(loc=500, scale=50, size=n_days)  # Sales for Store A\n",
    "store_b_sales = np.random.normal(loc=520, scale=40, size=n_days)  # Sales for Store B\n",
    "store_c_sales = np.random.normal(loc=480, scale=60, size=n_days)  # Sales for Store C\n",
    "\n",
    "# Combine sales data into a DataFrame\n",
    "sales_data = pd.DataFrame({\n",
    "    'Store A': store_a_sales,\n",
    "    'Store B': store_b_sales,\n",
    "    'Store C': store_c_sales\n",
    "})\n",
    "\n",
    "# Perform repeated measures ANOVA\n",
    "f_statistic, p_value = f_oneway(store_a_sales, store_b_sales, store_c_sales)\n",
    "\n",
    "# Report the F-statistic and p-value\n",
    "print(\"Repeated Measures ANOVA Results:\")\n",
    "print(\"F-statistic:\", f_statistic)\n",
    "print(\"p-value:\", p_value)\n",
    "\n",
    "# Perform post-hoc test (e.g., Tukey's HSD test) if the result is significant\n",
    "if p_value < 0.05:\n",
    "    # Reshape the data for MultiComparison\n",
    "    sales_data_stacked = pd.melt(sales_data.reset_index(), id_vars=['index'], value_vars=['Store A', 'Store B', 'Store C'])\n",
    "    \n",
    "    # Perform Tukey's HSD test\n",
    "    mc = MultiComparison(sales_data_stacked['value'], sales_data_stacked['variable'])\n",
    "    posthoc_results = mc.tukeyhsd()\n",
    "    print(\"\\nPost-Hoc Test Results:\")\n",
    "    print(posthoc_results)\n",
    "else:\n",
    "    print(\"\\nNo significant differences found between the three stores.\")\n"
   ]
  },
  {
   "cell_type": "code",
   "execution_count": null,
   "id": "6dfc3199-179b-4dda-84fd-9d900f064998",
   "metadata": {},
   "outputs": [],
   "source": []
  }
 ],
 "metadata": {
  "kernelspec": {
   "display_name": "Python 3 (ipykernel)",
   "language": "python",
   "name": "python3"
  },
  "language_info": {
   "codemirror_mode": {
    "name": "ipython",
    "version": 3
   },
   "file_extension": ".py",
   "mimetype": "text/x-python",
   "name": "python",
   "nbconvert_exporter": "python",
   "pygments_lexer": "ipython3",
   "version": "3.10.8"
  }
 },
 "nbformat": 4,
 "nbformat_minor": 5
}
